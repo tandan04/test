{
 "cells": [
  {
   "cell_type": "code",
   "execution_count": 1,
   "id": "e3f41067-1c1e-4f18-957c-8675b0465112",
   "metadata": {},
   "outputs": [],
   "source": [
    "#Q2. Write a python program to print the sum and product of the first 10 natural numbers using for\n",
    "#and while loop.\n"
   ]
  },
  {
   "cell_type": "code",
   "execution_count": 2,
   "id": "ae1fca29-422a-47f8-a00d-a8c4b9d32b44",
   "metadata": {},
   "outputs": [
    {
     "data": {
      "text/plain": [
       "45"
      ]
     },
     "execution_count": 2,
     "metadata": {},
     "output_type": "execute_result"
    }
   ],
   "source": [
    "sum=0\n",
    "for i in range(10) :\n",
    "    sum = sum+i\n",
    "sum"
   ]
  },
  {
   "cell_type": "code",
   "execution_count": 4,
   "id": "54dc84f1-6d83-4bca-9ae2-61f90fd17094",
   "metadata": {},
   "outputs": [
    {
     "data": {
      "text/plain": [
       "45"
      ]
     },
     "execution_count": 4,
     "metadata": {},
     "output_type": "execute_result"
    }
   ],
   "source": [
    "sum=0\n",
    "counter=0\n",
    "while counter<=9:\n",
    "    sum = sum+counter\n",
    "    counter = counter +1\n",
    "sum"
   ]
  },
  {
   "cell_type": "code",
   "execution_count": 7,
   "id": "e1fbff6e-0861-44d2-a531-1f5225a6095c",
   "metadata": {},
   "outputs": [
    {
     "name": "stdin",
     "output_type": "stream",
     "text": [
      "enter the first n number 9\n"
     ]
    },
    {
     "data": {
      "text/plain": [
       "362880"
      ]
     },
     "execution_count": 7,
     "metadata": {},
     "output_type": "execute_result"
    }
   ],
   "source": [
    "n=int(input(\"enter the first n number\"))\n",
    "product=1\n",
    "counter=1\n",
    "while counter<=n:\n",
    "    product = product*counter\n",
    "    counter = counter+1\n",
    "product"
   ]
  },
  {
   "cell_type": "code",
   "execution_count": 6,
   "id": "7b950dc4-f2c4-4a65-b57c-f862bb46f1b3",
   "metadata": {},
   "outputs": [
    {
     "data": {
      "text/plain": [
       "362880"
      ]
     },
     "execution_count": 6,
     "metadata": {},
     "output_type": "execute_result"
    }
   ],
   "source": [
    "product=1\n",
    "for i in range(1,10):\n",
    "    product *=i\n",
    "product"
   ]
  },
  {
   "cell_type": "code",
   "execution_count": 1,
   "id": "6fef9d2e-7ae4-4b3b-ae92-f4865a6ca6f3",
   "metadata": {},
   "outputs": [],
   "source": [
    "##Q3"
   ]
  },
  {
   "cell_type": "code",
   "execution_count": 3,
   "id": "7cf942aa-1280-47db-9f78-176c324a987c",
   "metadata": {},
   "outputs": [
    {
     "name": "stdin",
     "output_type": "stream",
     "text": [
      "No. of units of electricity consumed in a month  310\n"
     ]
    },
    {
     "name": "stdout",
     "output_type": "stream",
     "text": [
      "cost = 2250.0\n"
     ]
    }
   ],
   "source": [
    "N = int(input(\"No. of units of electricity consumed in a month \"))\n",
    "if N<=100:\n",
    "    cost = N*4.5\n",
    "elif 100<N<=200:\n",
    "    cost = 100*4.5 + (N-100)*6\n",
    "elif 200<N<=300:\n",
    "    cost = 100*(4.5+6) +(N-200)*10\n",
    "else:\n",
    "    cost = 100*(4.5+6+10)+(N-300)*20\n",
    "print(\"cost\" , \"=\" , cost)"
   ]
  },
  {
   "cell_type": "code",
   "execution_count": 4,
   "id": "5ec8d98a-1601-452d-8a9f-f8f60d70d2b5",
   "metadata": {},
   "outputs": [],
   "source": [
    "##Q4"
   ]
  },
  {
   "cell_type": "code",
   "execution_count": 5,
   "id": "e7c980ac-8e09-4b94-bfe6-c8c3935ab103",
   "metadata": {},
   "outputs": [
    {
     "name": "stdout",
     "output_type": "stream",
     "text": [
      "[0, 8, 64, 216, 512, 1000, 1728, 2744, 4096, 5832, 8000, 10648, 13824, 17576, 21952, 27000, 32768, 39304, 46656, 54872, 64000, 74088, 85184, 97336, 110592, 125000, 140608, 157464, 175616, 195112, 216000, 238328, 262144, 287496, 314432, 343000, 373248, 405224, 438976, 474552, 512000, 551368, 592704, 636056, 681472, 729000, 778688, 830584, 884736, 941192, 1000000]\n"
     ]
    }
   ],
   "source": [
    "l = list(i**3 for i in range(101))\n",
    "l1=[]\n",
    "for i in l:\n",
    "    if i%(4 or 5) == 0:\n",
    "        l1.append(i)\n",
    "print(l1)\n",
    "        "
   ]
  },
  {
   "cell_type": "code",
   "execution_count": 6,
   "id": "77294ddb-a54d-4770-bb7b-951439eb798a",
   "metadata": {},
   "outputs": [],
   "source": [
    "##5"
   ]
  },
  {
   "cell_type": "code",
   "execution_count": null,
   "id": "9b2a506e-d57e-4d12-9cd9-d045b7b6bb87",
   "metadata": {},
   "outputs": [],
   "source": []
  }
 ],
 "metadata": {
  "kernelspec": {
   "display_name": "Python 3 (ipykernel)",
   "language": "python",
   "name": "python3"
  },
  "language_info": {
   "codemirror_mode": {
    "name": "ipython",
    "version": 3
   },
   "file_extension": ".py",
   "mimetype": "text/x-python",
   "name": "python",
   "nbconvert_exporter": "python",
   "pygments_lexer": "ipython3",
   "version": "3.10.8"
  }
 },
 "nbformat": 4,
 "nbformat_minor": 5
}
